{
 "cells": [
  {
   "cell_type": "code",
   "execution_count": 1,
   "metadata": {},
   "outputs": [],
   "source": [
    "import numpy as np\n",
    "import matplotlib.pyplot as plt\n",
    "from matplotlib.font_manager import FontProperties"
   ]
  },
  {
   "cell_type": "code",
   "execution_count": 2,
   "metadata": {},
   "outputs": [],
   "source": [
    "## cost represents the cost of each of the projects in a vector\n",
    "cost = [500000.0, 500000.0, 200000.0, 150000.0, 125000.0, 575000.0, 450000.0, 144000.0, 500000.0, 176000.0,\n",
    " 450000.0, 300000.0, 300000.0, 175000.0, 150000.0, 300000.0, 60000.0, 500000.0, 600000.0, 500000.0, 350000.0,\n",
    " 750000.0, 1000000.0, 750000.0, 500000.0, 500000.0, 500000.0, 500000.0, 500000.0, 400000.0, 295000.0, 125000.0,\n",
    " 175000.0, 350000.0, 250000.0, 500000.0, 150000.0, 60000.0, 400000.0, 500000.0, 300000.0, 500000.0, 500000.0,\n",
    " 100000.0, 500000.0, 950000.0, 500000.0, 500000.0, 500000.0, 500000.0, 500000.0, 500000.0, 500000.0, 350000.0,\n",
    " 200000.0, 500000.0, 500000.0, 500000.0, 500000.0, 500000.0, 500000.0, 500000.0, 400000.0, 400000.0, 500000.0,\n",
    " 500000.0, 500000.0, 350000.0, 154000.0, 350000.0, 300000.0, 200000.0, 200000.0, 125000.0, 280000.0, 400000.0,\n",
    " 320000.0, 300000.0, 550000.0, 100000.0, 490000.0, 526000.0, 180000.0, 400000.0, 280000.0, 500000.0, 300000.0,\n",
    " 400000.0, 400000.0, 375000.0, 300000.0, 400000.0, 400000.0, 375000.0, 35000.0, 245000.0, 280000.0, 250000.0,\n",
    " 168000.0, 36000.0, 140876.0, 175000.0, 350000.0, 200000.0, 62000.0, 350000.0, 500000.0, 36000.0, 350000.0,\n",
    " 500000.0, 120000.0, 250000.0, 200000.0, 185000.0, 400000.0, 300000.0, 400000.0, 400000.0, 140876.0, 500000.0,\n",
    " 140876.0, 140876.0, 140876.0, 150000.0, 500000.0, 141000.0, 175000.0, 500000.0, 100000.0, 150000.0, 500000.0,\n",
    " 150000.0, 100000.0, 650000.0, 141000.0, 500000.0, 100000.0, 400000.0, 200000.0, 200000.0, 200000.0, 650000.0,\n",
    " 300000.0, 250000.0, 300000.0, 350000.0, 75000.0, 132000.0, 150000.0, 200000.0, 380000.0, 100000.0, 225000.0,\n",
    " 225000.0, 200000.0, 141000.0, 52500.0, 225000.0, 150000.0, 450000.0, 180000.0, 50000.0, 250000.0, 250000.0,\n",
    " 36000.0, 300000.0, 60000.0, 125000.0, 360000.0, 400000.0, 300000.0, 250000.0, 500000.0, 400000.0, 400000.0,\n",
    " 150000.0, 500000.0, 250000.0, 150000.0, 450000.0, 100000.0, 500000.0, 490000.0, 488000.0, 500000.0, 185000.0,\n",
    " 442000.0, 100000.0, 500000.0, 500000.0, 200000.0, 450000.0, 200000.0, 150000.0, 700000.0, 80000.0, 300000.0,\n",
    " 550000.0, 400000.0, 800000.0, 500000.0, 650000.0, 700000.0, 425000.0, 500000.0, 800000.0, 425000.0, 1000000.0,\n",
    " 500000.0, 270000.0, 200000.0, 250000.0, 150000.0, 400000.0, 100000.0, 375000.0, 100000.0, 415000.0, 300000.0,\n",
    " 160000.0, 124000.0, 200000.0, 500000.0, 400000.0, 124000.0, 150000.0, 250000.0, 450000.0, 315000.0, 200000.0,\n",
    " 260000.0, 200000.0, 600000.0, 175000.0, 100000.0, 250000.0, 500000.0, 700000.0, 600000.0, 190000.0, 300000.0,\n",
    " 40000.0, 480000.0, 450000.0, 400000.0, 190000.0, 300000.0, 300000.0, 500000.0, 500000.0, 175000.0, 1000000.0,\n",
    " 550000.0, 500000.0, 250000.0, 150000.0, 800000.0, 50000.0, 150000.0, 400000.0, 250000.0, 650000.0, 250000.0,\n",
    " 150000.0, 75000.0, 350000.0, 300000.0, 150000.0, 350000.0, 500000.0, 750000.0, 175000.0, 250000.0, 250000.0,\n",
    " 220000.0, 115000.0, 300000.0, 500000.0, 218000.0, 250000.0, 250000.0, 175000.0, 70000.0, 450000.0, 250000.0,\n",
    " 400000.0, 350000.0, 500000.0, 524000.0, 500000.0, 400000.0, 250000.0, 170000.0, 500000.0, 350000.0, 300000.0,\n",
    " 500000.0, 150000.0, 300000.0, 500000.0, 400000.0, 500000.0, 250000.0, 350000.0, 300000.0, 350000.0, 493000.0,\n",
    " 350000.0, 300000.0, 500000.0, 65000.0, 92529.0, 77035.0, 250000.0, 275640.0, 500000.0, 225000.0, 40000.0,\n",
    " 70000.0, 500000.0, 400000.0, 500000.0, 220000.0, 400000.0, 500000.0, 500000.0, 500000.0, 400000.0, 120000.0,\n",
    " 700000.0, 400000.0, 300000.0, 250000.0, 59560.0, 200000.0, 70000.0, 200000.0, 500000.0, 60000.0, 400000.0, \n",
    " 524000.0, 250000.0, 500000.0, 250000.0, 39900.0, 500000.0, 200000.0, 524000.0, 500000.0, 524000.0, 300000.0,\n",
    " 251200.0, 250000.0, 500000.0, 400000.0, 250000.0, 500000.0, 200000.0, 350000.0, 240000.0, 57000.0, 500000.0,\n",
    " 100000.0, 150000.0, 500000.0, 150000.0, 1500000.0, 300000.0, 500000.0, 140000.0, 100000.0, 100000.0, 500000.0,\n",
    " 500000.0, 500000.0, 415000.0, 500000.0, 500000.0, 500000.0, 280000.0, 500000.0, 108000.0, 500000.0]"
   ]
  },
  {
   "cell_type": "code",
   "execution_count": 3,
   "metadata": {},
   "outputs": [],
   "source": [
    "## This function recieve as input a Ballot, the budget available for all the projects and the cost for each\n",
    "## After calculate the ratios, the output is an array where the projects are accepted (-1) or rejected (-2),\n",
    "## the money that is not expend and the sum of votes for each project.\n",
    "def value_for_money (ballot, max_budget, cost_per_project):\n",
    "\n",
    "    n_projects = np.size(ballot,1)\n",
    "    n_voters = np.size(ballot,0)\n",
    "\n",
    "    total_votes = np.zeros(n_projects)\n",
    "\n",
    "    for agent in ballot:\n",
    "        total_votes = np.sum([total_votes, agent], axis=0)\n",
    "\n",
    "    ratio_per_project = np.true_divide(total_votes,cost_per_project)\n",
    "\n",
    "    done = False\n",
    "\n",
    "    while(done == False):\n",
    "        maxElement = np.argmax(ratio_per_project)\n",
    "        if (ratio_per_project[maxElement] < 0.0):\n",
    "            done = True\n",
    "        elif ((max_budget - cost_per_project[maxElement]) >= 0):\n",
    "            max_budget = max_budget - cost_per_project[maxElement]\n",
    "            ratio_per_project[maxElement] = -1\n",
    "        else:\n",
    "            ratio_per_project[maxElement] = -2\n",
    "        \n",
    "    return ratio_per_project, max_budget, total_votes"
   ]
  },
  {
   "cell_type": "code",
   "execution_count": 4,
   "metadata": {},
   "outputs": [],
   "source": [
    "## We create three vector to storage the information for each Ballot\n",
    "projects_decision = [] ## vector to save the projects acepted/discarded for each of the Ballots\n",
    "money_saved = [] ## vector to save the remaining money for each simulation (the not expended)\n",
    "total_votes = [] ## vector to save the sum of the votes for each project on each simulation\n",
    "\n",
    "## We run the function created above with all the files available\n",
    "for i in range (10):\n",
    "    file = 'Ballots/ballots' + str(i)+ '.npy'\n",
    "    Ballot = np.load(file)\n",
    "    n_projects = np.size(Ballot,1)\n",
    "    budget = 42000000.00\n",
    "    projects, extra_money, votes = value_for_money(Ballot,budget,cost)\n",
    "    \n",
    "    if i == 0:\n",
    "        projects_decision = projects\n",
    "        money_saved = extra_money\n",
    "        total_votes = votes\n",
    "        \n",
    "    else:\n",
    "        projects_decision = np.vstack([projects_decision, projects])\n",
    "        money_saved = np.vstack([money_saved, extra_money])\n",
    "        total_votes = np.vstack([total_votes, votes]) "
   ]
  },
  {
   "cell_type": "code",
   "execution_count": 5,
   "metadata": {},
   "outputs": [],
   "source": [
    "## efficiency and satisfaction vectors\n",
    "cost_per_winning_vote = []\n",
    "av_satisfaction = []\n",
    "winning_votes = [] \n",
    "projects_approved = []\n",
    "\n",
    "##we use winning votes to storage the sum of votes of the winning projects for each of the Ballots\n",
    "for n_ballot, decision_vector in enumerate (projects_decision):\n",
    "    win_vote = 0\n",
    "    projects_accepted = 0\n",
    "    for n_project, decision in enumerate (decision_vector):\n",
    "        if decision == -1:\n",
    "            win_vote = win_vote + total_votes[n_ballot,n_project]\n",
    "            projects_accepted = projects_accepted + 1\n",
    "    if n_ballot == 0:\n",
    "        winning_votes = win_vote\n",
    "        projects_approved = projects_accepted\n",
    "    else:\n",
    "        winning_votes = np.vstack([winning_votes, win_vote]) \n",
    "        projects_approved = np.vstack([projects_approved, projects_accepted]) \n",
    "        \n",
    "## Votes per ballot represent the sum of votes for each Ballot (winning and discaded projects included)\n",
    "votes_per_ballot = np.reshape(np.sum(total_votes, axis=1),(-1,1))\n",
    "cost_per_winning_vote = np.true_divide((budget-money_saved),winning_votes)\n",
    "av_satisfaction = np.true_divide(winning_votes,votes_per_ballot)*100.0"
   ]
  },
  {
   "cell_type": "code",
   "execution_count": 6,
   "metadata": {},
   "outputs": [
    {
     "name": "stdout",
     "output_type": "stream",
     "text": [
      "Dollars invested per winning vote\n",
      "[[10.97440017]\n",
      " [10.97921393]\n",
      " [10.98068485]\n",
      " [10.97990608]\n",
      " [10.97382396]\n",
      " [10.97873813]\n",
      " [10.97345809]\n",
      " [10.97798271]\n",
      " [10.98496716]\n",
      " [10.96467601]]\n",
      "Winning votes vs total votes (eficiency)\n",
      "[[55.05774951]\n",
      " [55.04174109]\n",
      " [55.04518279]\n",
      " [55.04634884]\n",
      " [55.05066972]\n",
      " [55.04929157]\n",
      " [55.05585499]\n",
      " [55.05042123]\n",
      " [55.03321791]\n",
      " [55.08801661]]\n",
      "Number of projects approved\n",
      "[[211]\n",
      " [211]\n",
      " [211]\n",
      " [211]\n",
      " [211]\n",
      " [211]\n",
      " [211]\n",
      " [211]\n",
      " [211]\n",
      " [211]]\n"
     ]
    }
   ],
   "source": [
    "print(\"Dollars invested per winning vote\")\n",
    "print(cost_per_winning_vote)\n",
    "print(\"Winning votes vs total votes (eficiency)\")\n",
    "print(av_satisfaction)\n",
    "print(\"Number of projects approved\")\n",
    "print(projects_approved)"
   ]
  },
  {
   "cell_type": "code",
   "execution_count": 7,
   "metadata": {},
   "outputs": [],
   "source": [
    "Knapsack_projects_approved = [116,111,111,107,105,110,107,107,103,119]\n",
    "Knapsack_cost_per_winning_vote = [19.894160015121418,20.664015372327633,20.776137829627267,21.54609921426902,\n",
    "                                 21.77823957965106,20.910178982706114,21.37887451994429,21.45168668984167,\n",
    "                                 22.389214419332774,19.162140239153448]\n",
    "Knapsack_av_satisfaction = [30.513046491165813,29.214411645435295,29.18715511375155,28.14613296934802,\n",
    "                             27.63734008544192,28.94624599285524,28.154060349775306,28.164696323262584,\n",
    "                              27.10547251982177,0.3129960155470827]"
   ]
  },
  {
   "cell_type": "code",
   "execution_count": 8,
   "metadata": {},
   "outputs": [],
   "source": [
    "Kapproval_projects_approved = [122,131,126,119,126,120,133,122,126,125]\n",
    "Kapproval_cost_per_winning_vote = [19.276301109502473,19.64054460402269,20.778598956794035,19.229898283557915,\n",
    "                                  18.62533011458334,18.953964947413017,19.055729356620876,19.184854370166466,\n",
    "                                  18.210263799648622,19.41624520364715]\n",
    "Kapproval_av_satisfaction = [31.86783244510352,34.17884371144036,32.909678085442284,31.072812003418143,\n",
    "                            32.91918859078638,31.325404155574665,34.73263592950266,31.85203123441279,\n",
    "                            32.88045848046994]"
   ]
  },
  {
   "cell_type": "code",
   "execution_count": 9,
   "metadata": {},
   "outputs": [],
   "source": [
    "mean_cost_per_winning_vote = np.zeros(len(cost_per_winning_vote))\n",
    "for item in range (len(mean_cost_per_winning_vote)):\n",
    "    mean_cost_per_winning_vote[item] = np.mean(cost_per_winning_vote)\n",
    "    \n",
    "mean_av_satisfaction = np.zeros(len(av_satisfaction))\n",
    "for item in range (len(mean_av_satisfaction)):\n",
    "    mean_av_satisfaction[item] = np.mean(av_satisfaction)\n",
    "    \n",
    "mean_projects_approved = np.zeros(len(projects_approved))\n",
    "for item in range (len(mean_projects_approved)):\n",
    "    mean_projects_approved[item] = np.mean(projects_approved)\n",
    "    \n",
    "mean_Knapsack_cost_per_winning_vote = np.zeros(len(Knapsack_cost_per_winning_vote))\n",
    "for item in range (len(mean_Knapsack_cost_per_winning_vote)):\n",
    "    mean_Knapsack_cost_per_winning_vote[item] = np.mean(Knapsack_cost_per_winning_vote)\n",
    "    \n",
    "mean_Knapsack_av_satisfaction = np.zeros(len(Knapsack_av_satisfaction))\n",
    "for item in range (len(mean_Knapsack_av_satisfaction)):\n",
    "    mean_Knapsack_av_satisfaction[item] = np.mean(Knapsack_av_satisfaction)\n",
    "    \n",
    "mean_Knapsack_projects_approved = np.zeros(len(Knapsack_projects_approved))\n",
    "for item in range (len(mean_Knapsack_projects_approved)):\n",
    "    mean_Knapsack_projects_approved[item] = np.mean(Knapsack_projects_approved)\n",
    "    \n",
    "mean_Kapproval_cost_per_winning_vote = np.zeros(len(Kapproval_cost_per_winning_vote))\n",
    "for item in range (len(mean_Kapproval_cost_per_winning_vote)):\n",
    "    mean_Kapproval_cost_per_winning_vote[item] = np.mean(Kapproval_cost_per_winning_vote)\n",
    "    \n",
    "mean_Kapproval_av_satisfaction = np.zeros(len(Kapproval_av_satisfaction))\n",
    "for item in range (len(mean_Kapproval_av_satisfaction)):\n",
    "    mean_Kapproval_av_satisfaction[item] = np.mean(Kapproval_av_satisfaction)\n",
    "    \n",
    "mean_Kapproval_projects_approved = np.zeros(len(Kapproval_projects_approved))\n",
    "for item in range (len(mean_Kapproval_projects_approved)):\n",
    "    mean_Kapproval_projects_approved[item] = np.mean(Kapproval_projects_approved)"
   ]
  },
  {
   "cell_type": "code",
   "execution_count": 10,
   "metadata": {},
   "outputs": [
    {
     "data": {
      "image/png": "[encoded data removed]",
      "text/plain": [
       "<Figure size 432x288 with 1 Axes>"
      ]
     },
     "metadata": {
      "needs_background": "light"
     },
     "output_type": "display_data"
    }
   ],
   "source": [
    "plt.plot(cost_per_winning_vote,'ro',ms=3,label='VFM method')\n",
    "plt.plot(mean_cost_per_winning_vote,'r--',lw=1,label='VFM method mean')\n",
    "plt.plot(Knapsack_cost_per_winning_vote,'bo',ms=3,label='Knapsack method')\n",
    "plt.plot(mean_Knapsack_cost_per_winning_vote,'b--',lw=1,label='Knapsack method mean')\n",
    "plt.plot(Kapproval_cost_per_winning_vote,'go',ms=3,label='K-approval method')\n",
    "plt.plot(mean_Kapproval_cost_per_winning_vote,'g--',lw=1,label='K-approval method mean')\n",
    "plt.xlabel('Number of simulation')\n",
    "plt.ylabel('Ratio: $ / winning vote')\n",
    "plt.title('Dollars invested per winning vote')\n",
    "fontP = FontProperties()\n",
    "fontP.set_size('small')\n",
    "plt.legend(prop=fontP)\n",
    "plt.show()"
   ]
  },
  {
   "cell_type": "code",
   "execution_count": 11,
   "metadata": {
    "scrolled": true
   },
   "outputs": [
    {
     "data": {
      "image/png": "[encoded data removed]",
      "text/plain": [
       "<Figure size 432x288 with 1 Axes>"
      ]
     },
     "metadata": {
      "needs_background": "light"
     },
     "output_type": "display_data"
    }
   ],
   "source": [
    "plt.plot(av_satisfaction,'ro',ms=3,label='VFM method')\n",
    "plt.plot(mean_av_satisfaction,'r--',lw=1,label='VFM method mean')\n",
    "plt.plot(Knapsack_av_satisfaction,'bo',ms=3,label='Knapsack method')\n",
    "plt.plot(mean_Knapsack_av_satisfaction,'b--',lw=1,label='Knapsack method mean')\n",
    "plt.plot(Kapproval_av_satisfaction,'go',ms=3,label='K-approval method')\n",
    "plt.plot(mean_Kapproval_av_satisfaction,'g--',lw=1,label='K-approval method mean')\n",
    "plt.xlabel('Number of simulation')\n",
    "plt.ylabel('Eficiency (%): Votes satisfied / total votes')\n",
    "plt.title('Winning votes vs total votes')\n",
    "fontP = FontProperties()\n",
    "fontP.set_size('small')\n",
    "plt.legend(prop=fontP)\n",
    "plt.show()"
   ]
  },
  {
   "cell_type": "code",
   "execution_count": 12,
   "metadata": {},
   "outputs": [
    {
     "data": {
      "image/png": "[encoded data removed]",
      "text/plain": [
       "<Figure size 432x288 with 1 Axes>"
      ]
     },
     "metadata": {
      "needs_background": "light"
     },
     "output_type": "display_data"
    }
   ],
   "source": [
    "plt.plot(projects_approved,'ro',ms=3,label='VFM method')\n",
    "plt.plot(mean_projects_approved,'r--',lw=1,label='VFM method mean')\n",
    "plt.plot(Knapsack_projects_approved,'bo',ms=3,label='Knapsack method')\n",
    "plt.plot(mean_Knapsack_projects_approved,'b--',lw=1,label='Knapsack method mean')\n",
    "plt.plot(Kapproval_projects_approved,'go',ms=3,label='K-approval method')\n",
    "plt.plot(mean_Kapproval_projects_approved,'g--',lw=1,label='K-approval method mean')\n",
    "plt.xlabel('Number of simulation')\n",
    "plt.ylabel('Number of projects accepted')\n",
    "plt.title('Projects accepted per simulation')\n",
    "fontP = FontProperties()\n",
    "fontP.set_size('small')\n",
    "plt.legend(prop=fontP)\n",
    "plt.show()"
   ]
  },
  {
   "cell_type": "code",
   "execution_count": null,
   "metadata": {},
   "outputs": [],
   "source": []
  }
 ],
 "metadata": {
  "kernelspec": {
   "display_name": "Python 3",
   "language": "python",
   "name": "python3"
  },
  "language_info": {
   "codemirror_mode": {
    "name": "ipython",
    "version": 3
   },
   "file_extension": ".py",
   "mimetype": "text/x-python",
   "name": "python",
   "nbconvert_exporter": "python",
   "pygments_lexer": "ipython3",
   "version": "3.7.3"
  }
 },
 "nbformat": 4,
 "nbformat_minor": 4
}
